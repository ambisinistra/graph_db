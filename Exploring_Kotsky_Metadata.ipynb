{
  "nbformat": 4,
  "nbformat_minor": 0,
  "metadata": {
    "colab": {
      "name": "Exploring Kotsky Metadata.ipynb",
      "provenance": [],
      "collapsed_sections": []
    },
    "kernelspec": {
      "display_name": "Python 3",
      "name": "python3"
    }
  },
  "cells": [
    {
      "cell_type": "code",
      "metadata": {
        "colab": {
          "base_uri": "https://localhost:8080/"
        },
        "id": "AVpnl5AE9sC-",
        "outputId": "61b5bde2-4d76-4458-c396-c75f80925e12"
      },
      "source": [
        "from google.colab import drive\n",
        "drive.mount(\"/content/drive\")"
      ],
      "execution_count": null,
      "outputs": [
        {
          "output_type": "stream",
          "text": [
            "Mounted at /content/drive\n"
          ],
          "name": "stdout"
        }
      ]
    },
    {
      "cell_type": "code",
      "metadata": {
        "colab": {
          "base_uri": "https://localhost:8080/",
          "height": 53
        },
        "id": "xgE0gesx1uri",
        "outputId": "20fa66df-d136-4e3d-e59e-5a90d9f6f596"
      },
      "source": [
        "#import os\r\n",
        "\r\n",
        "#drive_ = os.walk('drive')\r\n",
        "\r\n",
        "#for address, dirs, files in drive_:\r\n",
        "#    for file_ in files:\r\n",
        "#        if file_.endswith(\"tsv\"):\r\n",
        "#            print (address + '/' + file_)\r\n",
        "\r\n",
        "\"\"\"drive/MyDrive/Metadata Overview.tsv\r\n",
        "drive/.shortcut-targets-by-id/1yaLyixpxV6gt4azI-Gs4c_Loiqg9MAlz/Гастрономические мысли 2.dtBase2/Files.noindex/tsv/2/Metadata Overview.tsv\r\n",
        "drive/.shortcut-targets-by-id/1yaLyixpxV6gt4azI-Gs4c_Loiqg9MAlz/Гастрономические мысли 2.dtBase2/Files.noindex/tsv/0/Metadata Overview.tsv\"\"\""
      ],
      "execution_count": null,
      "outputs": [
        {
          "output_type": "execute_result",
          "data": {
            "application/vnd.google.colaboratory.intrinsic+json": {
              "type": "string"
            },
            "text/plain": [
              "'drive/MyDrive/Metadata Overview.tsv\\ndrive/.shortcut-targets-by-id/1yaLyixpxV6gt4azI-Gs4c_Loiqg9MAlz/Гастрономические мысли 2.dtBase2/Files.noindex/tsv/2/Metadata Overview.tsv\\ndrive/.shortcut-targets-by-id/1yaLyixpxV6gt4azI-Gs4c_Loiqg9MAlz/Гастрономические мысли 2.dtBase2/Files.noindex/tsv/0/Metadata Overview.tsv'"
            ]
          },
          "metadata": {
            "tags": []
          },
          "execution_count": 2
        }
      ]
    },
    {
      "cell_type": "code",
      "metadata": {
        "colab": {
          "base_uri": "https://localhost:8080/",
          "height": 252
        },
        "id": "BoKiwDQV3ZVl",
        "outputId": "d9e507d5-e5dd-4d7a-a5f9-0688b7ff376d"
      },
      "source": [
        "import pandas as pd\r\n",
        "import numpy as np\r\n",
        "df = pd.read_csv(\"drive/MyDrive/Metadata Overview.tsv\", sep='\\t', low_memory=False)\r\n",
        "\r\n",
        "my_list = [\"Name#string\", \"Kind#string\", \"Created#date\", \"Tags#string\"]\r\n",
        "df[my_list].head(7)"
      ],
      "execution_count": null,
      "outputs": [
        {
          "output_type": "execute_result",
          "data": {
            "text/html": [
              "<div>\n",
              "<style scoped>\n",
              "    .dataframe tbody tr th:only-of-type {\n",
              "        vertical-align: middle;\n",
              "    }\n",
              "\n",
              "    .dataframe tbody tr th {\n",
              "        vertical-align: top;\n",
              "    }\n",
              "\n",
              "    .dataframe thead th {\n",
              "        text-align: right;\n",
              "    }\n",
              "</style>\n",
              "<table border=\"1\" class=\"dataframe\">\n",
              "  <thead>\n",
              "    <tr style=\"text-align: right;\">\n",
              "      <th></th>\n",
              "      <th>Name#string</th>\n",
              "      <th>Kind#string</th>\n",
              "      <th>Created#date</th>\n",
              "      <th>Tags#string</th>\n",
              "    </tr>\n",
              "  </thead>\n",
              "  <tbody>\n",
              "    <tr>\n",
              "      <th>0</th>\n",
              "      <td>Антропология</td>\n",
              "      <td>Tag</td>\n",
              "      <td>2020-02-08 00:38:38</td>\n",
              "      <td>NaN</td>\n",
              "    </tr>\n",
              "    <tr>\n",
              "      <th>1</th>\n",
              "      <td>Differentiating_dietary_and_non-dietary_microf...</td>\n",
              "      <td>PDF+Text</td>\n",
              "      <td>2020-01-31 21:43:18</td>\n",
              "      <td>Антропология, Одонтология, Тип документа, Стат...</td>\n",
              "    </tr>\n",
              "    <tr>\n",
              "      <th>2</th>\n",
              "      <td>Североамериканские индейцы. М. 1978</td>\n",
              "      <td>PDF document</td>\n",
              "      <td>2020-02-07 10:53:11</td>\n",
              "      <td>Антропология, Биология и медицина, Экология, Б...</td>\n",
              "    </tr>\n",
              "    <tr>\n",
              "      <th>3</th>\n",
              "      <td>Миклухо-Маклай Николай. Путешествия на берег М...</td>\n",
              "      <td>FB2 Book</td>\n",
              "      <td>2020-01-31 21:43:10</td>\n",
              "      <td>География, Физическая география, Тихоокеанский...</td>\n",
              "    </tr>\n",
              "    <tr>\n",
              "      <th>4</th>\n",
              "      <td>Lapita_Diet_and_Subsistence_Strategies_on_Wato...</td>\n",
              "      <td>PDF+Text</td>\n",
              "      <td>2020-01-31 21:43:11</td>\n",
              "      <td>Тип документа, Статьи, Прошлое, Питание прошло...</td>\n",
              "    </tr>\n",
              "    <tr>\n",
              "      <th>5</th>\n",
              "      <td>Lapita_Diet_in_Remote_Oceania_New_Stable_Isoto...</td>\n",
              "      <td>PDF+Text</td>\n",
              "      <td>2020-01-31 21:43:11</td>\n",
              "      <td>Тип документа, Статьи, Прошлое, Естественно-на...</td>\n",
              "    </tr>\n",
              "    <tr>\n",
              "      <th>6</th>\n",
              "      <td>Lapita_subsistence_strategies_and_food_consump...</td>\n",
              "      <td>PDF+Text</td>\n",
              "      <td>2020-01-31 21:43:12</td>\n",
              "      <td>Тип документа, Статьи, Прошлое, Питание прошло...</td>\n",
              "    </tr>\n",
              "  </tbody>\n",
              "</table>\n",
              "</div>"
            ],
            "text/plain": [
              "                                         Name#string  ...                                        Tags#string\n",
              "0                                       Антропология  ...                                                NaN\n",
              "1  Differentiating_dietary_and_non-dietary_microf...  ...  Антропология, Одонтология, Тип документа, Стат...\n",
              "2                Североамериканские индейцы. М. 1978  ...  Антропология, Биология и медицина, Экология, Б...\n",
              "3  Миклухо-Маклай Николай. Путешествия на берег М...  ...  География, Физическая география, Тихоокеанский...\n",
              "4  Lapita_Diet_and_Subsistence_Strategies_on_Wato...  ...  Тип документа, Статьи, Прошлое, Питание прошло...\n",
              "5  Lapita_Diet_in_Remote_Oceania_New_Stable_Isoto...  ...  Тип документа, Статьи, Прошлое, Естественно-на...\n",
              "6  Lapita_subsistence_strategies_and_food_consump...  ...  Тип документа, Статьи, Прошлое, Питание прошло...\n",
              "\n",
              "[7 rows x 4 columns]"
            ]
          },
          "metadata": {
            "tags": []
          },
          "execution_count": 3
        }
      ]
    },
    {
      "cell_type": "code",
      "metadata": {
        "colab": {
          "base_uri": "https://localhost:8080/",
          "height": 518
        },
        "id": "y3MoG-q5Wq3c",
        "outputId": "1b8dbc1b-b8ea-4c27-806a-5f654cd1d240"
      },
      "source": [
        "df.head()"
      ],
      "execution_count": null,
      "outputs": [
        {
          "output_type": "execute_result",
          "data": {
            "text/html": [
              "<div>\n",
              "<style scoped>\n",
              "    .dataframe tbody tr th:only-of-type {\n",
              "        vertical-align: middle;\n",
              "    }\n",
              "\n",
              "    .dataframe tbody tr th {\n",
              "        vertical-align: top;\n",
              "    }\n",
              "\n",
              "    .dataframe thead th {\n",
              "        text-align: right;\n",
              "    }\n",
              "</style>\n",
              "<table border=\"1\" class=\"dataframe\">\n",
              "  <thead>\n",
              "    <tr style=\"text-align: right;\">\n",
              "      <th></th>\n",
              "      <th>Name#string</th>\n",
              "      <th>Kind#string</th>\n",
              "      <th>Created#date</th>\n",
              "      <th>Modified#date</th>\n",
              "      <th>Label#string</th>\n",
              "      <th>Rating#string</th>\n",
              "      <th>Aliases#string</th>\n",
              "      <th>Annotations#richtext</th>\n",
              "      <th>Finder Comment#text</th>\n",
              "      <th>URL#url</th>\n",
              "      <th>Tags#string</th>\n",
              "      <th>Item Link#url</th>\n",
              "      <th>Attachments#int</th>\n",
              "      <th>PDF Annotations#int</th>\n",
              "      <th>Incoming Item Links#int</th>\n",
              "      <th>Outgoing Item Links#int</th>\n",
              "      <th>Language#languages</th>\n",
              "      <th>Country#countries</th>\n",
              "      <th>Postal Code#string</th>\n",
              "      <th>Administrative Area#string</th>\n",
              "      <th>Locality#string</th>\n",
              "      <th>Author#string</th>\n",
              "      <th>Title#string</th>\n",
              "      <th>Comment#string</th>\n",
              "      <th>Headline#string</th>\n",
              "      <th>Subject#string</th>\n",
              "      <th>Description#string</th>\n",
              "      <th>Keywords#string</th>\n",
              "      <th>Organization#string</th>\n",
              "      <th>Copyright#string</th>\n",
              "      <th>Creator#string</th>\n",
              "      <th>Producer#string</th>\n",
              "      <th>Contributor#string</th>\n",
              "      <th>Publisher#string</th>\n",
              "      <th>Editor#string</th>\n",
              "    </tr>\n",
              "  </thead>\n",
              "  <tbody>\n",
              "    <tr>\n",
              "      <th>0</th>\n",
              "      <td>Антропология</td>\n",
              "      <td>Tag</td>\n",
              "      <td>2020-02-08 00:38:38</td>\n",
              "      <td>2020-05-18 18:18:15</td>\n",
              "      <td>NaN</td>\n",
              "      <td>NaN</td>\n",
              "      <td>NaN</td>\n",
              "      <td>NaN</td>\n",
              "      <td>NaN</td>\n",
              "      <td>NaN</td>\n",
              "      <td>NaN</td>\n",
              "      <td>x-devonthink-item://E2F6B6B9-ECB5-4591-9655-4F...</td>\n",
              "      <td>NaN</td>\n",
              "      <td>NaN</td>\n",
              "      <td>NaN</td>\n",
              "      <td>NaN</td>\n",
              "      <td>NaN</td>\n",
              "      <td>NaN</td>\n",
              "      <td>NaN</td>\n",
              "      <td>NaN</td>\n",
              "      <td>NaN</td>\n",
              "      <td>NaN</td>\n",
              "      <td>NaN</td>\n",
              "      <td>NaN</td>\n",
              "      <td>NaN</td>\n",
              "      <td>NaN</td>\n",
              "      <td>NaN</td>\n",
              "      <td>NaN</td>\n",
              "      <td>NaN</td>\n",
              "      <td>NaN</td>\n",
              "      <td>NaN</td>\n",
              "      <td>NaN</td>\n",
              "      <td>NaN</td>\n",
              "      <td>NaN</td>\n",
              "      <td>NaN</td>\n",
              "    </tr>\n",
              "    <tr>\n",
              "      <th>1</th>\n",
              "      <td>Differentiating_dietary_and_non-dietary_microf...</td>\n",
              "      <td>PDF+Text</td>\n",
              "      <td>2020-01-31 21:43:18</td>\n",
              "      <td>2020-01-31 21:43:18</td>\n",
              "      <td>NaN</td>\n",
              "      <td>NaN</td>\n",
              "      <td>NaN</td>\n",
              "      <td>NaN</td>\n",
              "      <td>NaN</td>\n",
              "      <td>NaN</td>\n",
              "      <td>Антропология, Одонтология, Тип документа, Стат...</td>\n",
              "      <td>x-devonthink-item://3E175A37-CB37-4118-87EA-90...</td>\n",
              "      <td>NaN</td>\n",
              "      <td>NaN</td>\n",
              "      <td>NaN</td>\n",
              "      <td>NaN</td>\n",
              "      <td>en</td>\n",
              "      <td>NaN</td>\n",
              "      <td>NaN</td>\n",
              "      <td>NaN</td>\n",
              "      <td>NaN</td>\n",
              "      <td>Monica Tromp</td>\n",
              "      <td>Differentiating dietary and non-dietary microf...</td>\n",
              "      <td>NaN</td>\n",
              "      <td>NaN</td>\n",
              "      <td>Journal of Archaeological Science, 54 (2015) 5...</td>\n",
              "      <td>NaN</td>\n",
              "      <td>NaN</td>\n",
              "      <td>NaN</td>\n",
              "      <td>NaN</td>\n",
              "      <td>Elsevier</td>\n",
              "      <td>Acrobat Distiller 8.1.0 (Windows)</td>\n",
              "      <td>NaN</td>\n",
              "      <td>NaN</td>\n",
              "      <td>NaN</td>\n",
              "    </tr>\n",
              "    <tr>\n",
              "      <th>2</th>\n",
              "      <td>Североамериканские индейцы. М. 1978</td>\n",
              "      <td>PDF document</td>\n",
              "      <td>2020-02-07 10:53:11</td>\n",
              "      <td>2020-02-07 10:53:13</td>\n",
              "      <td>NaN</td>\n",
              "      <td>NaN</td>\n",
              "      <td>NaN</td>\n",
              "      <td>NaN</td>\n",
              "      <td>NaN</td>\n",
              "      <td>NaN</td>\n",
              "      <td>Антропология, Биология и медицина, Экология, Б...</td>\n",
              "      <td>x-devonthink-item://2BDBEBBC-E944-4846-956E-4C...</td>\n",
              "      <td>NaN</td>\n",
              "      <td>NaN</td>\n",
              "      <td>NaN</td>\n",
              "      <td>NaN</td>\n",
              "      <td>NaN</td>\n",
              "      <td>NaN</td>\n",
              "      <td>NaN</td>\n",
              "      <td>NaN</td>\n",
              "      <td>NaN</td>\n",
              "      <td>NaN</td>\n",
              "      <td>NaN</td>\n",
              "      <td>NaN</td>\n",
              "      <td>NaN</td>\n",
              "      <td>NaN</td>\n",
              "      <td>NaN</td>\n",
              "      <td>NaN</td>\n",
              "      <td>NaN</td>\n",
              "      <td>NaN</td>\n",
              "      <td>NaN</td>\n",
              "      <td>libtiff / tiff2pdf - 20170521 / d</td>\n",
              "      <td>NaN</td>\n",
              "      <td>NaN</td>\n",
              "      <td>NaN</td>\n",
              "    </tr>\n",
              "    <tr>\n",
              "      <th>3</th>\n",
              "      <td>Миклухо-Маклай Николай. Путешествия на берег М...</td>\n",
              "      <td>FB2 Book</td>\n",
              "      <td>2020-01-31 21:43:10</td>\n",
              "      <td>2020-01-31 21:43:10</td>\n",
              "      <td>NaN</td>\n",
              "      <td>NaN</td>\n",
              "      <td>NaN</td>\n",
              "      <td>NaN</td>\n",
              "      <td>NaN</td>\n",
              "      <td>NaN</td>\n",
              "      <td>География, Физическая география, Тихоокеанский...</td>\n",
              "      <td>x-devonthink-item://0618282B-1FEC-4050-8A12-43...</td>\n",
              "      <td>NaN</td>\n",
              "      <td>NaN</td>\n",
              "      <td>NaN</td>\n",
              "      <td>NaN</td>\n",
              "      <td>NaN</td>\n",
              "      <td>NaN</td>\n",
              "      <td>NaN</td>\n",
              "      <td>NaN</td>\n",
              "      <td>NaN</td>\n",
              "      <td>NaN</td>\n",
              "      <td>NaN</td>\n",
              "      <td>NaN</td>\n",
              "      <td>NaN</td>\n",
              "      <td>NaN</td>\n",
              "      <td>NaN</td>\n",
              "      <td>NaN</td>\n",
              "      <td>NaN</td>\n",
              "      <td>NaN</td>\n",
              "      <td>NaN</td>\n",
              "      <td>NaN</td>\n",
              "      <td>NaN</td>\n",
              "      <td>NaN</td>\n",
              "      <td>NaN</td>\n",
              "    </tr>\n",
              "    <tr>\n",
              "      <th>4</th>\n",
              "      <td>Lapita_Diet_and_Subsistence_Strategies_on_Wato...</td>\n",
              "      <td>PDF+Text</td>\n",
              "      <td>2020-01-31 21:43:11</td>\n",
              "      <td>2020-01-31 21:43:11</td>\n",
              "      <td>NaN</td>\n",
              "      <td>NaN</td>\n",
              "      <td>NaN</td>\n",
              "      <td>NaN</td>\n",
              "      <td>NaN</td>\n",
              "      <td>NaN</td>\n",
              "      <td>Тип документа, Статьи, Прошлое, Питание прошло...</td>\n",
              "      <td>x-devonthink-item://0B2E0302-EC4E-4359-9B33-3E...</td>\n",
              "      <td>NaN</td>\n",
              "      <td>NaN</td>\n",
              "      <td>NaN</td>\n",
              "      <td>NaN</td>\n",
              "      <td>en</td>\n",
              "      <td>NaN</td>\n",
              "      <td>NaN</td>\n",
              "      <td>NaN</td>\n",
              "      <td>NaN</td>\n",
              "      <td>NaN</td>\n",
              "      <td>Lapita Diet and Subsistence Strategies on Wato...</td>\n",
              "      <td>NaN</td>\n",
              "      <td>NaN</td>\n",
              "      <td>NaN</td>\n",
              "      <td>NaN</td>\n",
              "      <td>NaN</td>\n",
              "      <td>NaN</td>\n",
              "      <td>NaN</td>\n",
              "      <td>Arbortext Advanced Print Publisher 9.0.114/W</td>\n",
              "      <td>Adobe LiveCycle PDFG ES</td>\n",
              "      <td>NaN</td>\n",
              "      <td>NaN</td>\n",
              "      <td>NaN</td>\n",
              "    </tr>\n",
              "  </tbody>\n",
              "</table>\n",
              "</div>"
            ],
            "text/plain": [
              "                                         Name#string  ... Editor#string\n",
              "0                                       Антропология  ...           NaN\n",
              "1  Differentiating_dietary_and_non-dietary_microf...  ...           NaN\n",
              "2                Североамериканские индейцы. М. 1978  ...           NaN\n",
              "3  Миклухо-Маклай Николай. Путешествия на берег М...  ...           NaN\n",
              "4  Lapita_Diet_and_Subsistence_Strategies_on_Wato...  ...           NaN\n",
              "\n",
              "[5 rows x 35 columns]"
            ]
          },
          "metadata": {
            "tags": []
          },
          "execution_count": 4
        }
      ]
    },
    {
      "cell_type": "code",
      "metadata": {
        "id": "qk9lMHEfWx0J"
      },
      "source": [
        "tags = df[df[\"Kind#string\"] == \"Tag\"]\r\n",
        "tags.head()\r\n",
        "\r\n",
        "del(df)"
      ],
      "execution_count": null,
      "outputs": []
    },
    {
      "cell_type": "code",
      "metadata": {
        "id": "jquV4mXK6n0k"
      },
      "source": [
        "def is_nan_or_empty(a : str):\r\n",
        "    if (a != a):\r\n",
        "        return (True)\r\n",
        "    else:\r\n",
        "        return (not bool(a))"
      ],
      "execution_count": null,
      "outputs": []
    },
    {
      "cell_type": "code",
      "metadata": {
        "colab": {
          "base_uri": "https://localhost:8080/",
          "height": 692
        },
        "id": "Kt4HarpoXp3k",
        "outputId": "01c4f6fb-f1a0-4b40-aac4-923c712d727d"
      },
      "source": [
        "tags[tags[\"Tags#string\"].isnull()][my_list]"
      ],
      "execution_count": null,
      "outputs": [
        {
          "output_type": "execute_result",
          "data": {
            "text/html": [
              "<div>\n",
              "<style scoped>\n",
              "    .dataframe tbody tr th:only-of-type {\n",
              "        vertical-align: middle;\n",
              "    }\n",
              "\n",
              "    .dataframe tbody tr th {\n",
              "        vertical-align: top;\n",
              "    }\n",
              "\n",
              "    .dataframe thead th {\n",
              "        text-align: right;\n",
              "    }\n",
              "</style>\n",
              "<table border=\"1\" class=\"dataframe\">\n",
              "  <thead>\n",
              "    <tr style=\"text-align: right;\">\n",
              "      <th></th>\n",
              "      <th>Name#string</th>\n",
              "      <th>Kind#string</th>\n",
              "      <th>Created#date</th>\n",
              "      <th>Tags#string</th>\n",
              "    </tr>\n",
              "  </thead>\n",
              "  <tbody>\n",
              "    <tr>\n",
              "      <th>0</th>\n",
              "      <td>Антропология</td>\n",
              "      <td>Tag</td>\n",
              "      <td>2020-02-08 00:38:38</td>\n",
              "      <td>NaN</td>\n",
              "    </tr>\n",
              "    <tr>\n",
              "      <th>971</th>\n",
              "      <td>Археология</td>\n",
              "      <td>Tag</td>\n",
              "      <td>2020-02-08 00:38:38</td>\n",
              "      <td>NaN</td>\n",
              "    </tr>\n",
              "    <tr>\n",
              "      <th>3195</th>\n",
              "      <td>Биология и медицина</td>\n",
              "      <td>Tag</td>\n",
              "      <td>2020-02-08 12:01:21</td>\n",
              "      <td>NaN</td>\n",
              "    </tr>\n",
              "    <tr>\n",
              "      <th>34361</th>\n",
              "      <td>Быт и Хозяйство</td>\n",
              "      <td>Tag</td>\n",
              "      <td>2020-02-09 18:38:00</td>\n",
              "      <td>NaN</td>\n",
              "    </tr>\n",
              "    <tr>\n",
              "      <th>36896</th>\n",
              "      <td>Вкус и аромат</td>\n",
              "      <td>Tag</td>\n",
              "      <td>2020-02-10 11:06:19</td>\n",
              "      <td>NaN</td>\n",
              "    </tr>\n",
              "    <tr>\n",
              "      <th>46951</th>\n",
              "      <td>Гастрономические девиации</td>\n",
              "      <td>Tag</td>\n",
              "      <td>2020-02-17 09:32:48</td>\n",
              "      <td>NaN</td>\n",
              "    </tr>\n",
              "    <tr>\n",
              "      <th>47058</th>\n",
              "      <td>География</td>\n",
              "      <td>Tag</td>\n",
              "      <td>2020-03-11 10:30:49</td>\n",
              "      <td>NaN</td>\n",
              "    </tr>\n",
              "    <tr>\n",
              "      <th>74993</th>\n",
              "      <td>Естественно-научные методы и подходы</td>\n",
              "      <td>Tag</td>\n",
              "      <td>2020-02-08 01:08:13</td>\n",
              "      <td>NaN</td>\n",
              "    </tr>\n",
              "    <tr>\n",
              "      <th>75350</th>\n",
              "      <td>Классификаторы аспектов кулинарной культуры</td>\n",
              "      <td>Tag</td>\n",
              "      <td>2020-04-02 14:05:02</td>\n",
              "      <td>NaN</td>\n",
              "    </tr>\n",
              "    <tr>\n",
              "      <th>76686</th>\n",
              "      <td>Кулинария</td>\n",
              "      <td>Tag</td>\n",
              "      <td>2020-02-11 19:23:51</td>\n",
              "      <td>NaN</td>\n",
              "    </tr>\n",
              "    <tr>\n",
              "      <th>159093</th>\n",
              "      <td>Народы и племена</td>\n",
              "      <td>Tag</td>\n",
              "      <td>2020-02-11 18:02:27</td>\n",
              "      <td>NaN</td>\n",
              "    </tr>\n",
              "    <tr>\n",
              "      <th>164913</th>\n",
              "      <td>Общественные науки</td>\n",
              "      <td>Tag</td>\n",
              "      <td>2020-02-11 20:19:26</td>\n",
              "      <td>NaN</td>\n",
              "    </tr>\n",
              "    <tr>\n",
              "      <th>167159</th>\n",
              "      <td>Ошибки восприятия и мышления</td>\n",
              "      <td>Tag</td>\n",
              "      <td>2020-02-21 16:23:23</td>\n",
              "      <td>NaN</td>\n",
              "    </tr>\n",
              "    <tr>\n",
              "      <th>167237</th>\n",
              "      <td>Перемещения</td>\n",
              "      <td>Tag</td>\n",
              "      <td>2020-03-30 00:07:59</td>\n",
              "      <td>NaN</td>\n",
              "    </tr>\n",
              "    <tr>\n",
              "      <th>167491</th>\n",
              "      <td>Персоналии и род деятельности</td>\n",
              "      <td>Tag</td>\n",
              "      <td>2020-02-24 23:07:44</td>\n",
              "      <td>NaN</td>\n",
              "    </tr>\n",
              "    <tr>\n",
              "      <th>168734</th>\n",
              "      <td>Прошлое</td>\n",
              "      <td>Tag</td>\n",
              "      <td>2020-02-08 01:15:11</td>\n",
              "      <td>NaN</td>\n",
              "    </tr>\n",
              "    <tr>\n",
              "      <th>176136</th>\n",
              "      <td>Систематика</td>\n",
              "      <td>Tag</td>\n",
              "      <td>2020-03-09 01:19:00</td>\n",
              "      <td>NaN</td>\n",
              "    </tr>\n",
              "    <tr>\n",
              "      <th>403922</th>\n",
              "      <td>События и процессы</td>\n",
              "      <td>Tag</td>\n",
              "      <td>2020-03-12 14:56:03</td>\n",
              "      <td>NaN</td>\n",
              "    </tr>\n",
              "    <tr>\n",
              "      <th>432433</th>\n",
              "      <td>Теги на разбор</td>\n",
              "      <td>Tag</td>\n",
              "      <td>2020-02-22 15:43:13</td>\n",
              "      <td>NaN</td>\n",
              "    </tr>\n",
              "    <tr>\n",
              "      <th>450629</th>\n",
              "      <td>Технологии</td>\n",
              "      <td>Tag</td>\n",
              "      <td>2020-02-21 15:31:11</td>\n",
              "      <td>NaN</td>\n",
              "    </tr>\n",
              "    <tr>\n",
              "      <th>450914</th>\n",
              "      <td>Тип документа</td>\n",
              "      <td>Tag</td>\n",
              "      <td>2020-02-11 20:10:51</td>\n",
              "      <td>NaN</td>\n",
              "    </tr>\n",
              "    <tr>\n",
              "      <th>454918</th>\n",
              "      <td>Химия (пищи в том числе)</td>\n",
              "      <td>Tag</td>\n",
              "      <td>2020-04-06 13:37:58</td>\n",
              "      <td>NaN</td>\n",
              "    </tr>\n",
              "  </tbody>\n",
              "</table>\n",
              "</div>"
            ],
            "text/plain": [
              "                                        Name#string  ... Tags#string\n",
              "0                                      Антропология  ...         NaN\n",
              "971                                      Археология  ...         NaN\n",
              "3195                            Биология и медицина  ...         NaN\n",
              "34361                               Быт и Хозяйство  ...         NaN\n",
              "36896                                 Вкус и аромат  ...         NaN\n",
              "46951                     Гастрономические девиации  ...         NaN\n",
              "47058                                     География  ...         NaN\n",
              "74993          Естественно-научные методы и подходы  ...         NaN\n",
              "75350   Классификаторы аспектов кулинарной культуры  ...         NaN\n",
              "76686                                     Кулинария  ...         NaN\n",
              "159093                             Народы и племена  ...         NaN\n",
              "164913                           Общественные науки  ...         NaN\n",
              "167159                 Ошибки восприятия и мышления  ...         NaN\n",
              "167237                                  Перемещения  ...         NaN\n",
              "167491                Персоналии и род деятельности  ...         NaN\n",
              "168734                                      Прошлое  ...         NaN\n",
              "176136                                  Систематика  ...         NaN\n",
              "403922                           События и процессы  ...         NaN\n",
              "432433                               Теги на разбор  ...         NaN\n",
              "450629                                   Технологии  ...         NaN\n",
              "450914                                Тип документа  ...         NaN\n",
              "454918                     Химия (пищи в том числе)  ...         NaN\n",
              "\n",
              "[22 rows x 4 columns]"
            ]
          },
          "metadata": {
            "tags": []
          },
          "execution_count": 7
        }
      ]
    },
    {
      "cell_type": "code",
      "metadata": {
        "colab": {
          "base_uri": "https://localhost:8080/"
        },
        "id": "TZWyFSgLPrfa",
        "outputId": "b093424b-776d-4ea4-b01f-b81590f181a0"
      },
      "source": [
        "len(tags[tags[\"Tags#string\"].isnull()][my_list])"
      ],
      "execution_count": null,
      "outputs": [
        {
          "output_type": "execute_result",
          "data": {
            "text/plain": [
              "22"
            ]
          },
          "metadata": {
            "tags": []
          },
          "execution_count": 8
        }
      ]
    },
    {
      "cell_type": "code",
      "metadata": {
        "id": "wAS4FnNuP56P"
      },
      "source": [
        "tags_splitted = tags[\"Tags#string\"].str.split(',')"
      ],
      "execution_count": null,
      "outputs": []
    },
    {
      "cell_type": "code",
      "metadata": {
        "colab": {
          "base_uri": "https://localhost:8080/"
        },
        "id": "14QOzM0zQ6W0",
        "outputId": "9328e7b7-9b8a-45ec-9325-d55d5626c7a1"
      },
      "source": [
        "all_parent_therms = set.union(*tags_splitted.dropna().apply(set))\r\n",
        "all_origin_therms = set(tags[\"Name#string\"].values)\r\n",
        "\r\n",
        "print (len(all_parent_therms))\r\n",
        "print (len(all_origin_therms))"
      ],
      "execution_count": null,
      "outputs": [
        {
          "output_type": "stream",
          "text": [
            "15201\n",
            "28356\n"
          ],
          "name": "stdout"
        }
      ]
    },
    {
      "cell_type": "code",
      "metadata": {
        "colab": {
          "base_uri": "https://localhost:8080/"
        },
        "id": "u2nKn_nVXcQL",
        "outputId": "4e928704-a742-4aae-8e8a-f7b3972fd1ec"
      },
      "source": [
        "all_parent_therms = set([a.strip() for a in list(all_parent_therms)])\r\n",
        "all_origin_therms = set([a.strip() for a in list(all_origin_therms)])\r\n",
        "\r\n",
        "print (len(all_parent_therms))\r\n",
        "print (len(all_origin_therms))\r\n",
        "print ()\r\n",
        "print (len(all_parent_therms - all_origin_therms))\r\n",
        "print (len(all_origin_therms - all_parent_therms))"
      ],
      "execution_count": null,
      "outputs": [
        {
          "output_type": "stream",
          "text": [
            "15179\n",
            "28356\n",
            "\n",
            "48\n",
            "13225\n"
          ],
          "name": "stdout"
        }
      ]
    },
    {
      "cell_type": "code",
      "metadata": {
        "colab": {
          "base_uri": "https://localhost:8080/"
        },
        "id": "oI9-BJ1xfrX8",
        "outputId": "2825daeb-c5a7-4d7e-d6a9-7049d2f141cd"
      },
      "source": [
        "# all_therms_ = []\r\n",
        "# for sentence in list(all_origin_therms):\r\n",
        "#     for word in sentence.split(','):\r\n",
        "#         all_therms.append(word)\r\n",
        "# all_origin_therms = set(all_therms_)\r\n",
        "\r\n",
        "all_origin_therms = set([word.strip() for sentence in list(all_origin_therms) for word in sentence.split(',')])\r\n",
        "\r\n",
        "print (len(all_parent_therms))\r\n",
        "print (len(all_origin_therms))\r\n",
        "print ()\r\n",
        "print (len(all_parent_therms - all_origin_therms))\r\n",
        "print (len(all_origin_therms - all_parent_therms))"
      ],
      "execution_count": null,
      "outputs": [
        {
          "output_type": "stream",
          "text": [
            "15179\n",
            "28390\n",
            "\n",
            "0\n",
            "13211\n"
          ],
          "name": "stdout"
        }
      ]
    },
    {
      "cell_type": "code",
      "metadata": {
        "id": "r8N6rhYdSLwG"
      },
      "source": [
        "list_of_all_origin_therms = list(all_origin_therms) # i know that projection of set to list should be consistend but just want to be sure\r\n",
        "len_of_list = len(list_of_all_origin_therms)\r\n",
        "dict2vec = dict(zip(list_of_all_origin_therms, list(range(len_of_list))))\r\n",
        "vec2dict = dict(zip(list(range(len_of_list)), list_of_all_origin_therms))"
      ],
      "execution_count": null,
      "outputs": []
    },
    {
      "cell_type": "code",
      "metadata": {
        "colab": {
          "base_uri": "https://localhost:8080/",
          "height": 194
        },
        "id": "iydAOlY3Dq6u",
        "outputId": "9a680797-652c-4c7c-d186-d83a13b4868b"
      },
      "source": [
        "tags = tags.reset_index()\r\n",
        "tags[my_list].head()"
      ],
      "execution_count": null,
      "outputs": [
        {
          "output_type": "execute_result",
          "data": {
            "text/html": [
              "<div>\n",
              "<style scoped>\n",
              "    .dataframe tbody tr th:only-of-type {\n",
              "        vertical-align: middle;\n",
              "    }\n",
              "\n",
              "    .dataframe tbody tr th {\n",
              "        vertical-align: top;\n",
              "    }\n",
              "\n",
              "    .dataframe thead th {\n",
              "        text-align: right;\n",
              "    }\n",
              "</style>\n",
              "<table border=\"1\" class=\"dataframe\">\n",
              "  <thead>\n",
              "    <tr style=\"text-align: right;\">\n",
              "      <th></th>\n",
              "      <th>Name#string</th>\n",
              "      <th>Kind#string</th>\n",
              "      <th>Created#date</th>\n",
              "      <th>Tags#string</th>\n",
              "    </tr>\n",
              "  </thead>\n",
              "  <tbody>\n",
              "    <tr>\n",
              "      <th>0</th>\n",
              "      <td>Антропология</td>\n",
              "      <td>Tag</td>\n",
              "      <td>2020-02-08 00:38:38</td>\n",
              "      <td>NaN</td>\n",
              "    </tr>\n",
              "    <tr>\n",
              "      <th>1</th>\n",
              "      <td>Антропогенез</td>\n",
              "      <td>Tag</td>\n",
              "      <td>2020-02-08 01:48:45</td>\n",
              "      <td>Антропология</td>\n",
              "    </tr>\n",
              "    <tr>\n",
              "      <th>2</th>\n",
              "      <td>Кулинарная гипотеза</td>\n",
              "      <td>Tag</td>\n",
              "      <td>2020-02-08 01:48:45</td>\n",
              "      <td>Антропология, Антропогенез</td>\n",
              "    </tr>\n",
              "    <tr>\n",
              "      <th>3</th>\n",
              "      <td>Энергетическая выгода готовки</td>\n",
              "      <td>Tag</td>\n",
              "      <td>2020-02-08 01:48:45</td>\n",
              "      <td>Антропология, Антропогенез, Кулинарная гипотез...</td>\n",
              "    </tr>\n",
              "    <tr>\n",
              "      <th>4</th>\n",
              "      <td>Саванная гипотеза</td>\n",
              "      <td>Tag</td>\n",
              "      <td>2020-02-08 12:12:43</td>\n",
              "      <td>Антропология, Антропогенез</td>\n",
              "    </tr>\n",
              "  </tbody>\n",
              "</table>\n",
              "</div>"
            ],
            "text/plain": [
              "                     Name#string  ...                                        Tags#string\n",
              "0                   Антропология  ...                                                NaN\n",
              "1                   Антропогенез  ...                                       Антропология\n",
              "2            Кулинарная гипотеза  ...                         Антропология, Антропогенез\n",
              "3  Энергетическая выгода готовки  ...  Антропология, Антропогенез, Кулинарная гипотез...\n",
              "4              Саванная гипотеза  ...                         Антропология, Антропогенез\n",
              "\n",
              "[5 rows x 4 columns]"
            ]
          },
          "metadata": {
            "tags": []
          },
          "execution_count": 14
        }
      ]
    },
    {
      "cell_type": "code",
      "metadata": {
        "colab": {
          "base_uri": "https://localhost:8080/"
        },
        "id": "yWLaoCT7T2ug",
        "outputId": "9493f802-9821-431f-f127-61a11c6ab89e"
      },
      "source": [
        "%%time\r\n",
        "not_collected = 0\r\n",
        "list_of_pairs = []\r\n",
        "\r\n",
        "for index, row in tags.iterrows():\r\n",
        "    for origin_therm in row[\"Name#string\"].split(','):\r\n",
        "        ori_therm_index = dict2vec[origin_therm.strip()]\r\n",
        "        if not is_nan_or_empty(row[\"Tags#string\"]):\r\n",
        "            for therm in row[\"Tags#string\"].split(','):\r\n",
        "                therm = therm.strip()\r\n",
        "                if therm in all_origin_therms:\r\n",
        "                    list_of_pairs.append([ori_therm_index, dict2vec[therm]])\r\n",
        "                else:\r\n",
        "                    not_collected += 1\r\n",
        "        break\r\n",
        "    if index % 10000 == 0:\r\n",
        "        print (index)\r\n",
        "\r\n",
        "pd_pairs = pd.DataFrame(list_of_pairs, columns=[\"child\", \"parent\"])\r\n",
        "\r\n",
        "print (f\"there was {not_collected} therms not added to adjacency matrix\")\r\n",
        "\r\n",
        "print (pd_pairs.head())"
      ],
      "execution_count": null,
      "outputs": [
        {
          "output_type": "stream",
          "text": [
            "0\n",
            "10000\n",
            "20000\n",
            "30000\n",
            "40000\n",
            "50000\n",
            "60000\n",
            "70000\n",
            "80000\n",
            "90000\n",
            "100000\n",
            "110000\n",
            "120000\n",
            "130000\n",
            "140000\n",
            "150000\n",
            "160000\n",
            "there was 0 therms not added to adjacency matrix\n",
            "   child  parent\n",
            "0  20766   11780\n",
            "1  18226   11780\n",
            "2  18226   20766\n",
            "3   9685   11780\n",
            "4   9685   20766\n",
            "CPU times: user 30.6 s, sys: 470 ms, total: 31 s\n",
            "Wall time: 31.1 s\n"
          ],
          "name": "stdout"
        }
      ]
    },
    {
      "cell_type": "code",
      "metadata": {
        "colab": {
          "base_uri": "https://localhost:8080/"
        },
        "id": "_CD29hlPjOre",
        "outputId": "55f6627f-9c09-40d6-e8d5-81f726cb50d3"
      },
      "source": [
        "pd_pairs[\"child\"] = pd_pairs[\"child\"].map(vec2dict)\r\n",
        "pd_pairs[\"parent\"] = pd_pairs[\"parent\"].map(vec2dict)\r\n",
        "\r\n",
        "pd_pairs.shape"
      ],
      "execution_count": null,
      "outputs": [
        {
          "output_type": "execute_result",
          "data": {
            "text/plain": [
              "(6778390, 2)"
            ]
          },
          "metadata": {
            "tags": []
          },
          "execution_count": 16
        }
      ]
    },
    {
      "cell_type": "code",
      "metadata": {
        "colab": {
          "base_uri": "https://localhost:8080/",
          "height": 399
        },
        "id": "zjmAOcrPl5Bl",
        "outputId": "480224e0-62f7-49cf-baba-8bab4ff0d29e"
      },
      "source": [
        "pd_pairs.reset_index()"
      ],
      "execution_count": null,
      "outputs": [
        {
          "output_type": "execute_result",
          "data": {
            "text/html": [
              "<div>\n",
              "<style scoped>\n",
              "    .dataframe tbody tr th:only-of-type {\n",
              "        vertical-align: middle;\n",
              "    }\n",
              "\n",
              "    .dataframe tbody tr th {\n",
              "        vertical-align: top;\n",
              "    }\n",
              "\n",
              "    .dataframe thead th {\n",
              "        text-align: right;\n",
              "    }\n",
              "</style>\n",
              "<table border=\"1\" class=\"dataframe\">\n",
              "  <thead>\n",
              "    <tr style=\"text-align: right;\">\n",
              "      <th></th>\n",
              "      <th>index</th>\n",
              "      <th>child</th>\n",
              "      <th>parent</th>\n",
              "    </tr>\n",
              "  </thead>\n",
              "  <tbody>\n",
              "    <tr>\n",
              "      <th>0</th>\n",
              "      <td>0</td>\n",
              "      <td>Антропогенез</td>\n",
              "      <td>Антропология</td>\n",
              "    </tr>\n",
              "    <tr>\n",
              "      <th>1</th>\n",
              "      <td>1</td>\n",
              "      <td>Кулинарная гипотеза</td>\n",
              "      <td>Антропология</td>\n",
              "    </tr>\n",
              "    <tr>\n",
              "      <th>2</th>\n",
              "      <td>2</td>\n",
              "      <td>Кулинарная гипотеза</td>\n",
              "      <td>Антропогенез</td>\n",
              "    </tr>\n",
              "    <tr>\n",
              "      <th>3</th>\n",
              "      <td>3</td>\n",
              "      <td>Энергетическая выгода готовки</td>\n",
              "      <td>Антропология</td>\n",
              "    </tr>\n",
              "    <tr>\n",
              "      <th>4</th>\n",
              "      <td>4</td>\n",
              "      <td>Энергетическая выгода готовки</td>\n",
              "      <td>Антропогенез</td>\n",
              "    </tr>\n",
              "    <tr>\n",
              "      <th>...</th>\n",
              "      <td>...</td>\n",
              "      <td>...</td>\n",
              "      <td>...</td>\n",
              "    </tr>\n",
              "    <tr>\n",
              "      <th>6778385</th>\n",
              "      <td>6778385</td>\n",
              "      <td>Коричный альдегид (Cinnamaldehyde)</td>\n",
              "      <td>antifungal agent</td>\n",
              "    </tr>\n",
              "    <tr>\n",
              "      <th>6778386</th>\n",
              "      <td>6778386</td>\n",
              "      <td>Коричный альдегид (Cinnamaldehyde)</td>\n",
              "      <td>flavouring agent</td>\n",
              "    </tr>\n",
              "    <tr>\n",
              "      <th>6778387</th>\n",
              "      <td>6778387</td>\n",
              "      <td>Коричный альдегид (Cinnamaldehyde)</td>\n",
              "      <td>Метаболиты (Metabolite)</td>\n",
              "    </tr>\n",
              "    <tr>\n",
              "      <th>6778388</th>\n",
              "      <td>6778388</td>\n",
              "      <td>Коричный альдегид (Cinnamaldehyde)</td>\n",
              "      <td>Метаболиты растений</td>\n",
              "    </tr>\n",
              "    <tr>\n",
              "      <th>6778389</th>\n",
              "      <td>6778389</td>\n",
              "      <td>Коричный альдегид (Cinnamaldehyde)</td>\n",
              "      <td>sensitiser</td>\n",
              "    </tr>\n",
              "  </tbody>\n",
              "</table>\n",
              "<p>6778390 rows × 3 columns</p>\n",
              "</div>"
            ],
            "text/plain": [
              "           index                               child                   parent\n",
              "0              0                        Антропогенез             Антропология\n",
              "1              1                 Кулинарная гипотеза             Антропология\n",
              "2              2                 Кулинарная гипотеза             Антропогенез\n",
              "3              3       Энергетическая выгода готовки             Антропология\n",
              "4              4       Энергетическая выгода готовки             Антропогенез\n",
              "...          ...                                 ...                      ...\n",
              "6778385  6778385  Коричный альдегид (Cinnamaldehyde)         antifungal agent\n",
              "6778386  6778386  Коричный альдегид (Cinnamaldehyde)         flavouring agent\n",
              "6778387  6778387  Коричный альдегид (Cinnamaldehyde)  Метаболиты (Metabolite)\n",
              "6778388  6778388  Коричный альдегид (Cinnamaldehyde)      Метаболиты растений\n",
              "6778389  6778389  Коричный альдегид (Cinnamaldehyde)               sensitiser\n",
              "\n",
              "[6778390 rows x 3 columns]"
            ]
          },
          "metadata": {
            "tags": []
          },
          "execution_count": 17
        }
      ]
    },
    {
      "cell_type": "code",
      "metadata": {
        "colab": {
          "base_uri": "https://localhost:8080/",
          "height": 36
        },
        "id": "rY3DBaIsmFqd",
        "outputId": "a8d8d13d-b989-4eae-9fc1-cd6395ffc533"
      },
      "source": [
        "pd_pairs[\"distance\"] = 1\r\n",
        "\r\n",
        "pd_pairs.drop_duplicates(inplace=True)\r\n",
        "\r\n",
        "print (pd_pairs.shape, end=\"\\n\\n\")\r\n",
        "\r\n",
        "pd_pairs.to_csv(\"kotsky_pairs.csv\", index=False)\r\n",
        "\r\n",
        "pd_pairs.head()"
      ],
      "execution_count": null,
      "outputs": [
        {
          "output_type": "execute_result",
          "data": {
            "application/vnd.google.colaboratory.intrinsic+json": {
              "type": "string"
            },
            "text/plain": [
              "'\\npd_pairs[\"distance\"] = 1\\n\\npd_pairs.drop_duplicates(inplace=True)\\n\\nprint (pd_pairs.shape, end=\"\\n\\n\")\\n\\npd_pairs.to_csv(\"kotsky_pairs.csv\", index=False)\\n\\npd_pairs.head()\\n'"
            ]
          },
          "metadata": {
            "tags": []
          },
          "execution_count": 18
        }
      ]
    },
    {
      "cell_type": "code",
      "metadata": {
        "colab": {
          "base_uri": "https://localhost:8080/"
        },
        "id": "CLAPSujg9rZI",
        "outputId": "be3f1d39-0e99-46e9-a27d-03604ed1bf74"
      },
      "source": [
        "pd_pairs[\"parent\"].value_counts()"
      ],
      "execution_count": null,
      "outputs": [
        {
          "output_type": "execute_result",
          "data": {
            "text/plain": [
              "Систематика                135797\n",
              "Кулинария                  108003\n",
              "Продукты питания           103718\n",
              "Растения                    58566\n",
              "Съедобные растения          58098\n",
              "                            ...  \n",
              "Галлицы (Cecidomyiidae)         1\n",
              "Полосатый бопс                  1\n",
              "Mustela erminea                 1\n",
              "Stenella longirostris           1\n",
              "Чоп балканский                  1\n",
              "Name: parent, Length: 15179, dtype: int64"
            ]
          },
          "metadata": {
            "tags": []
          },
          "execution_count": 20
        }
      ]
    },
    {
      "cell_type": "code",
      "metadata": {
        "colab": {
          "base_uri": "https://localhost:8080/"
        },
        "id": "m20piwZZCQ5G",
        "outputId": "0cba2e4e-6484-4b41-c2cc-aa65706fa77a"
      },
      "source": [
        "child = \"Сычуанский перец (sensu stricto)\"\r\n",
        "\r\n",
        "for i, count_child in enumerate(pd_pairs[pd_pairs[\"child\"] == child][\"parent\"].value_counts().iteritems()):\r\n",
        "    if i > 50:\r\n",
        "        break\r\n",
        "    print (count_child) "
      ],
      "execution_count": null,
      "outputs": [
        {
          "output_type": "stream",
          "text": [
            "('β-Туйон (β-Thujone)', 1215)\n",
            "('Nerol', 1215)\n",
            "('Myrtenal', 1215)\n",
            "('Атрактант для насекомых', 1215)\n",
            "('cis-Carveyl acetate', 1215)\n",
            "('α-Терпенил ацетат (α-Terpinyl acetate)', 1215)\n",
            "('Skimmianine', 1215)\n",
            "('Метаболиты (Metabolite)', 1215)\n",
            "('Метаболиты человека', 1215)\n",
            "('Germacrene D', 1215)\n",
            "('trans-Piperitol', 1215)\n",
            "('Pungent taste', 1215)\n",
            "('Кариофиллены (Caryophyllene)', 1215)\n",
            "('Citronellyl acetate', 1215)\n",
            "('(10RS.11RS)-(2E.6Z.8E)-10.11-Dihydroxy-N-(2-hydroxy-2-methylpropyl)-2.6.8-dodecatrienamide', 1215)\n",
            "('β-Кариофиллен (β-Caryophyllene)', 1215)\n",
            "('α-Кубебин (α-Cubebene)', 1215)\n",
            "('δ-Терпинен (δ-Terpinene)', 1215)\n",
            "('(2E.4E.8Z.11Z)-N-(2-Hydroxy-2-methylpropyl)-2.4.8.11-tetradeeatetraenamide', 1215)\n",
            "('cis-p-Mentha-2.8-dien-1-ol', 1215)\n",
            "('Алкиламиды (Alkylamides)', 1215)\n",
            "('Гликозиды (Glycoside)', 1215)\n",
            "('Пара-ментановые монотерпены (p-Menthane monoterpenes)', 1215)\n",
            "('Пиридины (Pyridines)', 1215)\n",
            "('Гетероциклические соединения (Heterocyclic compound)', 1215)\n",
            "('bocconoline', 1215)\n",
            "('Транс-Сабинен-гидрат (trans-Sabinene hydrate)', 1215)\n",
            "('N-acetylanonaine', 1215)\n",
            "('Алкилбензолы (Alkylbenzenes)', 1215)\n",
            "(\"(2E.4E.8Z)-2'-hydroxy-N-isobutyl-2.4.8-tetradecatrienamide\", 1215)\n",
            "('Холодовые рецепторы в формировании вкуса', 1215)\n",
            "('huajiaosimuline', 1215)\n",
            "('Линалоол (Linalool)', 1215)\n",
            "('.Химия пищи (теги на разбор)', 1215)\n",
            "('Ирритант', 1215)\n",
            "('Ароматические эфиры', 1215)\n",
            "('Съедобные растения', 1215)\n",
            "('KCNK18', 1215)\n",
            "('Опьяняющие вещества в продуктах питания', 1215)\n",
            "('Конвульсанты', 1215)\n",
            "('Жёлтодревесник китайский', 1215)\n",
            "('Простые эфиры (Ether)', 1215)\n",
            "('Kokusaginine', 1215)\n",
            "('Противогрибковое действие', 1215)\n",
            "('Цинеолы (Cineoles)', 1215)\n",
            "('TRPV (рецепторы)', 1215)\n",
            "('(2E.4E.8E.10E.12E)-2′-Hydroxy-N-isobutyl-2.4.8.10.12-tetradecatetraenamide', 1215)\n",
            "('Сычуанские перцы', 1215)\n",
            "('L-sesamin', 1215)\n",
            "('Superrosids', 1215)\n",
            "('Углеводы (Carbohydrates)', 1215)\n"
          ],
          "name": "stdout"
        }
      ]
    },
    {
      "cell_type": "code",
      "metadata": {
        "colab": {
          "base_uri": "https://localhost:8080/"
        },
        "id": "bJDzB79_-kVP",
        "outputId": "712fdf17-1ecf-4dd7-b59e-1647ead0d87b"
      },
      "source": [
        "for i, count_child in enumerate(pd_pairs[pd_pairs[\"parent\"] == \"Кулинария\"][\"child\"].value_counts().iteritems()):\r\n",
        "    if i > 50:\r\n",
        "        break\r\n",
        "    print (count_child) "
      ],
      "execution_count": null,
      "outputs": [
        {
          "output_type": "stream",
          "text": [
            "('Zanthoxylum bungeanum (Жёлтодревесник китайский)!', 1469)\n",
            "('Масло сычуанского перца', 1216)\n",
            "('Сычуанский перец (sensu stricto)', 1215)\n",
            "('Zanthoxylum bungeanum (Желтодревесник японский)!', 709)\n",
            "('Zanthoxylum schinifolium!', 692)\n",
            "('Zanthoxylum clava-herculis!', 654)\n",
            "('Жёлтодревесник Геркулесова дубина (кора)', 615)\n",
            "('Зелёный сычуанский перец (шинусолистный)', 597)\n",
            "('Zanthoxylum rhetsa!', 579)\n",
            "('Жёлтодревесник индийский (семена)', 569)\n",
            "('Zanthoxylum nitidum!', 548)\n",
            "('Японский перец (перикарпий)', 525)\n",
            "('Эфиопский кардамон (коробочки)', 469)\n",
            "('Zanthoxylum fagara!', 464)\n",
            "('Zanthoxylum gilletii!', 435)\n",
            "('Жёлтодревесник индийский (листья)', 414)\n",
            "('Piper guineense!', 391)\n",
            "('Amomum subulatum!', 347)\n",
            "('Афрамомум мелегета (семена)', 286)\n",
            "('Zanthoxylum acanthopodium!', 280)\n",
            "('Зантоксилум fagara (листья)', 253)\n",
            "('Piper betle!', 177)\n",
            "('Piper cubeba!', 166)\n",
            "('Zanthoxylum americanum!', 158)\n",
            "('Африканский перец (листья)', 141)\n",
            "('Африканский перец (плоды)', 140)\n",
            "('Мексиканский перечник (листья)', 135)\n",
            "('Piper auritum!', 133)\n",
            "('Afromomum melegueta!', 113)\n",
            "('Cardamine pratensis!', 106)\n",
            "('Agwi-jjim', 98)\n",
            "('Сердечник луговой (листья)', 97)\n",
            "('Жёлтодревесник индийский (перикарпий)', 92)\n",
            "('Piper longum!', 91)\n",
            "('Persicaria hydropiper!', 86)\n",
            "('Андалиман (перикарпий)', 83)\n",
            "('Lactobacillus spp', 79)\n",
            "('Горец перечный (листья)', 78)\n",
            "('Pseudowintera axillaris!', 78)\n",
            "('Pseudowintera traversii!', 76)\n",
            "('Pseudowintera colorata!', 76)\n",
            "('Ruta graveolens!', 73)\n",
            "('Горец перечный (семена)', 72)\n",
            "('Горец перечный (молодые ростки)', 70)\n",
            "('Tasmannia lanceolata!', 70)\n",
            "('Рута душистая (листья)', 68)\n",
            "('Gochujang', 67)\n",
            "('Низинный хоропито (листья)', 67)\n",
            "('Tasmannia stipitata!', 66)\n",
            "('Хоропито Трэверса (листья)', 65)\n",
            "('Горный хоропито (листья)', 65)\n"
          ],
          "name": "stdout"
        }
      ]
    },
    {
      "cell_type": "code",
      "metadata": {
        "colab": {
          "base_uri": "https://localhost:8080/",
          "height": 17
        },
        "id": "CLxpMK-i_WBD",
        "outputId": "a729b29d-6cc6-4e43-a10d-e46b1a8d40f5"
      },
      "source": [
        "from google.colab import files\r\n",
        "\r\n",
        "pd.DataFrame(all_origin_therms).to_csv(\"unique_names.csv\", index=False)\r\n",
        "files.download(\"unique_names.csv\")"
      ],
      "execution_count": null,
      "outputs": [
        {
          "output_type": "display_data",
          "data": {
            "application/javascript": [
              "\n",
              "    async function download(id, filename, size) {\n",
              "      if (!google.colab.kernel.accessAllowed) {\n",
              "        return;\n",
              "      }\n",
              "      const div = document.createElement('div');\n",
              "      const label = document.createElement('label');\n",
              "      label.textContent = `Downloading \"${filename}\": `;\n",
              "      div.appendChild(label);\n",
              "      const progress = document.createElement('progress');\n",
              "      progress.max = size;\n",
              "      div.appendChild(progress);\n",
              "      document.body.appendChild(div);\n",
              "\n",
              "      const buffers = [];\n",
              "      let downloaded = 0;\n",
              "\n",
              "      const channel = await google.colab.kernel.comms.open(id);\n",
              "      // Send a message to notify the kernel that we're ready.\n",
              "      channel.send({})\n",
              "\n",
              "      for await (const message of channel.messages) {\n",
              "        // Send a message to notify the kernel that we're ready.\n",
              "        channel.send({})\n",
              "        if (message.buffers) {\n",
              "          for (const buffer of message.buffers) {\n",
              "            buffers.push(buffer);\n",
              "            downloaded += buffer.byteLength;\n",
              "            progress.value = downloaded;\n",
              "          }\n",
              "        }\n",
              "      }\n",
              "      const blob = new Blob(buffers, {type: 'application/binary'});\n",
              "      const a = document.createElement('a');\n",
              "      a.href = window.URL.createObjectURL(blob);\n",
              "      a.download = filename;\n",
              "      div.appendChild(a);\n",
              "      a.click();\n",
              "      div.remove();\n",
              "    }\n",
              "  "
            ],
            "text/plain": [
              "<IPython.core.display.Javascript object>"
            ]
          },
          "metadata": {
            "tags": []
          }
        },
        {
          "output_type": "display_data",
          "data": {
            "application/javascript": [
              "download(\"download_94b534c5-d09d-4665-9573-2ab9334806f8\", \"unique_names.csv\", 814710)"
            ],
            "text/plain": [
              "<IPython.core.display.Javascript object>"
            ]
          },
          "metadata": {
            "tags": []
          }
        }
      ]
    }
  ]
}